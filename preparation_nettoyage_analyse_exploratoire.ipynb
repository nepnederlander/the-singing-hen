{
  "nbformat": 4,
  "nbformat_minor": 0,
  "metadata": {
    "colab": {
      "provenance": [],
      "authorship_tag": "ABX9TyMBA9pUpDpUhkAVDVgNaBDo",
      "include_colab_link": true
    },
    "kernelspec": {
      "name": "python3",
      "display_name": "Python 3"
    },
    "language_info": {
      "name": "python"
    }
  },
  "cells": [
    {
      "cell_type": "markdown",
      "metadata": {
        "id": "view-in-github",
        "colab_type": "text"
      },
      "source": [
        "<a href=\"https://colab.research.google.com/github/nepnederlander/the-singing-hen/blob/master/preparation_nettoyage_analyse_exploratoire.ipynb\" target=\"_parent\"><img src=\"https://colab.research.google.com/assets/colab-badge.svg\" alt=\"Open In Colab\"/></a>"
      ]
    },
    {
      "cell_type": "markdown",
      "source": [
        "Ce notebook est composé de **trois parties** :\n",
        "\n",
        "\n",
        "*   Préparation des données : choix des données utiles\n",
        "*   Nettoyage des données : gestion des null, des outliers...\n",
        "*   Analyse exploratoire des données\n",
        "\n",
        "Les **sources de données** sont les suivantes :\n",
        "\n",
        "*   **dispo_alimentaire.csv** : fichier contenant différentes informations sur les importations, l'alimentation et autres indicateurs importants par pays.\n",
        "*   **population.csv** : fichier contenant les informations sur la population de chaque pays par année.\n",
        "\n"
      ],
      "metadata": {
        "id": "TYpbYJsMbDTa"
      }
    },
    {
      "cell_type": "code",
      "execution_count": null,
      "metadata": {
        "id": "oNoSrHmTYRXO"
      },
      "outputs": [],
      "source": [
        "import pandas as pd\n",
        "import numpy as np\n",
        "import seaborn as sns"
      ]
    }
  ]
}